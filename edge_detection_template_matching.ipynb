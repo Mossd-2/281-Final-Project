{
  "cells": [
    {
      "cell_type": "markdown",
      "metadata": {
        "id": "eDLfRoDq4CNF"
      },
      "source": [
        "## Template Matching and Edge Detection Feature Sets\n",
        "\n",
        "This notebook includes functions and the pipeline for pulling edges and template matching statistics as features"
      ]
    },
    {
      "cell_type": "code",
      "execution_count": 1,
      "metadata": {
        "colab": {
          "base_uri": "https://localhost:8080/",
          "height": 383
        },
        "id": "Ln3YpSwi4CNH",
        "outputId": "b7f193f5-fba2-4ba5-8815-17a3dc6e42a5"
      },
      "outputs": [
        {
          "ename": "ModuleNotFoundError",
          "evalue": "No module named 'utils'",
          "output_type": "error",
          "traceback": [
            "\u001b[0;31m---------------------------------------------------------------------------\u001b[0m",
            "\u001b[0;31mModuleNotFoundError\u001b[0m                       Traceback (most recent call last)",
            "\u001b[0;32m<ipython-input-1-60eaf21b7ebd>\u001b[0m in \u001b[0;36m<cell line: 0>\u001b[0;34m()\u001b[0m\n\u001b[1;32m      6\u001b[0m \u001b[0;32mimport\u001b[0m \u001b[0mcv2\u001b[0m\u001b[0;34m\u001b[0m\u001b[0;34m\u001b[0m\u001b[0m\n\u001b[1;32m      7\u001b[0m \u001b[0;32mfrom\u001b[0m \u001b[0mglob\u001b[0m \u001b[0;32mimport\u001b[0m \u001b[0mglob\u001b[0m\u001b[0;34m\u001b[0m\u001b[0;34m\u001b[0m\u001b[0m\n\u001b[0;32m----> 8\u001b[0;31m \u001b[0;32mimport\u001b[0m \u001b[0mutils\u001b[0m\u001b[0;34m\u001b[0m\u001b[0;34m\u001b[0m\u001b[0m\n\u001b[0m\u001b[1;32m      9\u001b[0m \u001b[0;34m\u001b[0m\u001b[0m\n\u001b[1;32m     10\u001b[0m \u001b[0;31m# Data paths\u001b[0m\u001b[0;34m\u001b[0m\u001b[0;34m\u001b[0m\u001b[0m\n",
            "\u001b[0;31mModuleNotFoundError\u001b[0m: No module named 'utils'",
            "",
            "\u001b[0;31m---------------------------------------------------------------------------\u001b[0;32m\nNOTE: If your import is failing due to a missing package, you can\nmanually install dependencies using either !pip or !apt.\n\nTo view examples of installing some common dependencies, click the\n\"Open Examples\" button below.\n\u001b[0;31m---------------------------------------------------------------------------\u001b[0m\n"
          ]
        }
      ],
      "source": [
        "import pandas as pd\n",
        "import numpy as np\n",
        "import matplotlib.pyplot as plt\n",
        "import os\n",
        "from tensorflow.keras.utils import array_to_img, img_to_array, load_img\n",
        "import cv2\n",
        "from glob import glob\n",
        "import utils\n",
        "\n",
        "# Data paths\n",
        "DATA_PATH = None  # Will be set by setup_data function"
      ]
    },
    {
      "cell_type": "code",
      "execution_count": 2,
      "metadata": {
        "id": "YwpWv9Bt4CNJ"
      },
      "outputs": [],
      "source": [
        "def setup_data():\n",
        "    \"\"\"Set up the data path based on environment.\"\"\"\n",
        "    global DATA_PATH\n",
        "\n",
        "    # Check if we're in Colab\n",
        "    try:\n",
        "        import google.colab\n",
        "        from google.colab import drive\n",
        "\n",
        "        # Mount Drive if not already mounted\n",
        "        if not os.path.exists('/content/drive'):\n",
        "            drive.mount('/content/drive')\n",
        "\n",
        "        # Ask for path to project folder\n",
        "        print(\"Enter path to the 281_final_project_data folder in Drive (e.g., /content/drive/MyDrive/281_final_project_data):\")\n",
        "        project_path = input()\n",
        "\n",
        "        # Set the data path to the basic folder within the project\n",
        "        DATA_PATH = os.path.join(project_path, \"basic\")\n",
        "\n",
        "    except ImportError:\n",
        "        # Not in Colab, download the data if needed\n",
        "        download_path = \"./281_final_project_data\"\n",
        "\n",
        "        # Check if data already exists\n",
        "        if os.path.exists(download_path) and os.path.exists(os.path.join(download_path, \"basic\")):\n",
        "            print(f\"Using existing data in {download_path}/basic\")\n",
        "        else:\n",
        "            print(\"Download data 281_final_project_data folder from Google Drive.\")\n",
        "\n",
        "        # Set the data path to the basic folder within the downloaded project\n",
        "        DATA_PATH = os.path.join(download_path, \"basic\")\n"
      ]
    },
    {
      "cell_type": "code",
      "execution_count": 3,
      "metadata": {
        "id": "C-WK1scB4CNJ"
      },
      "outputs": [],
      "source": [
        "# Load images function\n",
        "def load_data(directory):\n",
        "\n",
        "    # First, ensure the data is available\n",
        "    setup_data()\n",
        "    path_to_data = DATA_PATH\n",
        "\n",
        "    # load text file with image labels as a dictionary\n",
        "    labels = pd.read_csv(os.path.join(path_to_data, \"EmoLabel/list_patition_label.txt\"), sep=\" \", header=None)\n",
        "    labels = dict(zip(labels[0], labels[1]))\n",
        "\n",
        "    # update path_to_data\n",
        "    path_to_data = os.path.join(path_to_data, \"Image\", directory)\n",
        "\n",
        "    train_img = []\n",
        "    train_labels = []\n",
        "    test_img = []\n",
        "    test_labels = []\n",
        "\n",
        "    for file in os.listdir(path_to_data):\n",
        "        image_path = os.path.join(path_to_data, file)\n",
        "        image = load_img(image_path)\n",
        "        img_arr = img_to_array(image, dtype=int)\n",
        "        if directory == \"aligned\":\n",
        "            label = labels[file.replace(\"_aligned\", \"\")]\n",
        "        else:\n",
        "            label = labels[file]\n",
        "        if \"train\" in file:\n",
        "            train_img.append(img_arr)\n",
        "            train_labels.append(label)\n",
        "        else:\n",
        "            test_img.append(img_arr)\n",
        "            test_labels.append(label)\n",
        "\n",
        "    train_labels = np.array(train_labels, dtype=int)\n",
        "    test_labels = np.array(test_labels, dtype=int)\n",
        "\n",
        "    if directory == \"aligned\":\n",
        "        train_img = np.array(train_img)\n",
        "        test_img = np.array(test_img)\n",
        "\n",
        "        # Apply random shuffling to training examples.\n",
        "        np.random.seed(0)\n",
        "        indices = np.arange(train_img.shape[0])\n",
        "        shuffled_indices = np.random.permutation(indices)\n",
        "        train_img = train_img[shuffled_indices]\n",
        "        train_labels = train_labels[shuffled_indices]\n",
        "\n",
        "    return train_img, train_labels, test_img, test_labels"
      ]
    },
    {
      "cell_type": "code",
      "execution_count": 8,
      "metadata": {
        "colab": {
          "base_uri": "https://localhost:8080/"
        },
        "id": "fid6y_jU4CNK",
        "outputId": "d56acf20-b12b-4819-b25d-d2d02eda9885"
      },
      "outputs": [
        {
          "name": "stdout",
          "output_type": "stream",
          "text": [
            "Enter path to the 281_final_project_data folder in Drive (e.g., /content/drive/MyDrive/281_final_project_data):\n",
            "/content/drive/MyDrive/281_final_project_data\n"
          ]
        }
      ],
      "source": [
        "# Load label names\n",
        "label_names_dict = {1: 'surprise', 2: 'fear', 3: 'disgust', 4: 'happiness', 5: 'sadness', 6: 'anger', 7: 'neutral'}\n",
        "\n",
        "# Images are loaded as ints from 0 to 255\n",
        "# Load training images and labels (original)\n",
        "# Note: Loads images as a regular list since images are all different sizes. Labels are numpy array.\n",
        "# If loading originals, they will require further processing and shuffling.\n",
        "#train_img_org, train_labels_org, test_img_org, test_labels_org = load_data(DATA_PATH, \"original\")\n",
        "\n",
        "# Load training images and labels (aligned)\n",
        "# Converts images to numpy array since images are 100x100 and shuffles them. Labels are numpy array.\n",
        "train_img_aligned, train_labels_aligned, test_img_aligned, test_labels_aligned = load_data(\"aligned\")\n"
      ]
    },
    {
      "cell_type": "markdown",
      "metadata": {
        "id": "SJQKc54v4CNK"
      },
      "source": [
        "### Adding Canny Edges to the Images\n",
        "\n",
        "Canny edges can be added as a channel into the images (shape will then become (H, W, 4) instead of (H, W, 3)) and added as an input into the model, or be used in a pipeline to identify contours of facial landmarks (such as eyes, mouth, nose, etc), or sillhouettes, which can be included as feature statistics into the model.\n",
        "\n",
        "The below function adds the canny filters into the image as an extra channel and outputs the manipulated image into a designated output folder. we can adjust this to output each image individually or some other format for our pipeline, depending on how it fits with the other feature extraction steps.\n",
        "\n",
        "### Template Matching statistics as Selected Features\n",
        "One way to use template matching for feature engineering would be to have templates for each facial expression (e.g. raised eyebrows and open mouth for suprise, smile and thinner eyes for happy, etc). The below function gathers similarity metrics between an image and a template and could be implemented into a pipeline for us to gather these summary statistics across all facial expression templates. E.g. min_val, max_val, avg_score, std_score will be gathered for each facial expression and included in our feature set.\n",
        "\n",
        "One way of getting these templates is to use the training images and get an average face for each emotion class, then apply the canny detection pipeline to each template. This may add more information than a simple smiley face or frowning face. But if we do this should pay close attention to the test statistics as the templates could be overfit to the training data. We should also inspect those average faces to see if this seems feasible\n"
      ]
    },
    {
      "cell_type": "code",
      "execution_count": null,
      "metadata": {
        "id": "GDw7lYor4CNK"
      },
      "outputs": [],
      "source": [
        "\n",
        "\n",
        "# processing all images and outputing list of canny edges\n",
        "\n",
        "\n",
        "def process_images_with_canny(images_array, lower_threshold=50, upper_threshold=150):\n",
        "    \"\"\"\n",
        "    Applies grayscale conversion (if needed), histogram equalization,\n",
        "    and Canny edge detection on a numpy array of images.\n",
        "\n",
        "    Returns:\n",
        "        np.ndarray: shape (N, H, W) – Canny edge maps\n",
        "    \"\"\"\n",
        "    if not isinstance(images_array, np.ndarray):\n",
        "        raise TypeError(\"Input must be a numpy array.\")\n",
        "\n",
        "    # logic for color images, but function can be applied for images without color channel\n",
        "    if images_array.ndim == 4:\n",
        "        # RGB/BGR images\n",
        "        n_images = images_array.shape[0]\n",
        "        processed = np.zeros(images_array.shape[:3], dtype=np.uint8)\n",
        "\n",
        "        for i in range(n_images):\n",
        "            img = images_array[i]\n",
        "\n",
        "            # ensuring dtype is uint8\n",
        "            if img.dtype != np.uint8:\n",
        "                img = img.astype(np.uint8)\n",
        "\n",
        "            #grayscale\n",
        "            img_gray = cv2.cvtColor(img, cv2.COLOR_BGR2GRAY)\n",
        "            #histogram equalization\n",
        "            img_eq = cv2.equalizeHist(img_gray)\n",
        "            #edge detection\n",
        "            edges = cv2.Canny(img_eq, lower_threshold, upper_threshold)\n",
        "            #adding to processed array\n",
        "            processed[i] = edges\n",
        "\n",
        "    elif images_array.ndim == 3:\n",
        "        # grayscale\n",
        "        n_images = images_array.shape[0]\n",
        "        processed = np.zeros(images_array.shape, dtype=np.uint8)\n",
        "\n",
        "        for i in range(n_images):\n",
        "            img = images_array[i]\n",
        "\n",
        "            # ensuring dtype is uint8\n",
        "            if img.dtype != np.uint8:\n",
        "                img = img.astype(np.uint8)\n",
        "\n",
        "            #histogram equalization\n",
        "            img_eq = cv2.equalizeHist(img)\n",
        "            #edge detection\n",
        "            edges = cv2.Canny(img_eq, lower_threshold, upper_threshold)\n",
        "            #adding to processed array\n",
        "            processed[i] = edges\n",
        "\n",
        "    return processed\n",
        "\n",
        "\n",
        "\n",
        "\n",
        "\n",
        "\n",
        "\n",
        "# creating emotion expression templates from training data\n",
        "\n",
        "def create_average_template(images, labels):\n",
        "    \"\"\"\n",
        "    Creates an average face for all images for each emotion class,\n",
        "    then applies Canny edge detection. Returns a dictionary of templates.\n",
        "    \"\"\"\n",
        "\n",
        "    emotion_dict = {}\n",
        "    unique_labels = set(labels)\n",
        "\n",
        "    for lab in unique_labels:\n",
        "        # selecting and preprocessing all images with the current label\n",
        "        float_images = []\n",
        "        for img, label in zip(images, labels):\n",
        "            if label == lab:\n",
        "                # ensuring uint8 type before cv functions\n",
        "                if img.dtype != np.uint8:\n",
        "                    img = img.astype(np.uint8)\n",
        "\n",
        "                #grayscale\n",
        "                gray = cv2.cvtColor(img, cv2.COLOR_BGR2GRAY)\n",
        "                #histogram equalization\n",
        "                eq = cv2.equalizeHist(gray)\n",
        "                #appending to list\n",
        "                float_images.append(eq.astype(np.float32))\n",
        "\n",
        "        # Compute the average image\n",
        "        avg_img = np.mean(float_images, axis=0)\n",
        "\n",
        "        # Clip to valid image range and convert to uint8\n",
        "        avg_img_uint8 = np.clip(avg_img, 0, 255).astype(np.uint8)\n",
        "\n",
        "        # Apply Canny edge detection\n",
        "        edges = cv2.Canny(avg_img_uint8, 50, 150)\n",
        "\n",
        "        emotion_dict[lab] = edges\n",
        "\n",
        "    return emotion_dict\n",
        "\n",
        "\n",
        "\n",
        "\n",
        "\n",
        "\n",
        "\n",
        "def extract_expression_match_features_batch(images, labels, emotion_templates):\n",
        "    \"\"\"\n",
        "    Takes a numpy array of images and labels, and a dict of preprocessed emotion templates.\n",
        "    Returns:\n",
        "        - A list of feature vectors (one per image).\n",
        "        - A list of corresponding labels.\n",
        "    \"\"\"\n",
        "    feature_matrix = []\n",
        "    output_labels = []\n",
        "\n",
        "    for img, label in zip(images, labels):\n",
        "        # ensuring image is in uint8 format\n",
        "        if img.dtype != np.uint8:\n",
        "            img = np.clip(img, 0, 255).astype(np.uint8)\n",
        "\n",
        "        # convert to grayscale for color imgs\n",
        "        if len(img.shape) == 3:\n",
        "            img = cv2.cvtColor(img, cv2.COLOR_BGR2GRAY)\n",
        "\n",
        "        # equalizing and applying edge detection\n",
        "        img_eq = cv2.equalizeHist(img)\n",
        "        img_edges = cv2.Canny(img_eq, 50, 150)\n",
        "\n",
        "        feature_vector = []\n",
        "\n",
        "        for emotion, template in emotion_templates.items():\n",
        "\n",
        "            #using cv matchTemplate to map edges to template\n",
        "            result = cv2.matchTemplate(img_edges, template, cv2.TM_CCOEFF_NORMED)\n",
        "            #getting vals (just pulling max_val for feature set)\n",
        "            min_val, max_val, min_loc, max_loc = cv2.minMaxLoc(result)\n",
        "            #computing avg and std for similarity\n",
        "            avg_score = np.mean(result)\n",
        "            std_score = np.std(result)\n",
        "\n",
        "            #adding to feature array\n",
        "            feature_vector.extend([max_val, avg_score, std_score])\n",
        "\n",
        "        feature_matrix.append(np.array(feature_vector))\n",
        "        output_labels.append(label)\n",
        "\n",
        "    return feature_matrix, output_labels\n",
        "\n",
        "\n"
      ]
    },
    {
      "cell_type": "markdown",
      "metadata": {
        "id": "fLj-K5yN4CNL"
      },
      "source": [
        "### Applying Functions to pipeline"
      ]
    },
    {
      "cell_type": "code",
      "execution_count": 27,
      "metadata": {
        "id": "vk8CxzG94CNL"
      },
      "outputs": [],
      "source": [
        "# processing and outputing edges vector\n",
        "edges_features_2d = process_images_with_canny(train_img_aligned)\n",
        "edges_features_1d = edges_features_2d.reshape(train_img_aligned.shape[0], -1) # flattening to just 1d feature vector for each image\n",
        "\n",
        "\n",
        "# creating emotion templates\n",
        "templates_dict = create_average_template(train_img_aligned, train_labels_aligned)\n",
        "\n",
        "\n",
        "# gathering similarity metrics to add to the feature set\n",
        "template_match_features, out_labels = extract_expression_match_features_batch(train_img_aligned, train_labels_aligned, templates_dict)\n",
        "\n",
        "\n",
        "# final edges and template matching feature set\n",
        "edge_templ_features = np.concatenate([edges_features_1d, template_match_features], axis=1)\n",
        "\n"
      ]
    },
    {
      "cell_type": "code",
      "execution_count": 31,
      "metadata": {
        "colab": {
          "base_uri": "https://localhost:8080/"
        },
        "id": "cc1YJu08REd9",
        "outputId": "10ddce58-d3c5-4ff9-e77d-f593bd1a3193"
      },
      "outputs": [
        {
          "data": {
            "text/plain": [
              "array([[ 0.00000000e+00,  2.55000000e+02,  0.00000000e+00, ...,\n",
              "         1.93000138e-02,  1.93000138e-02,  0.00000000e+00],\n",
              "       [ 0.00000000e+00,  0.00000000e+00,  0.00000000e+00, ...,\n",
              "         3.95714790e-02,  3.95714790e-02,  0.00000000e+00],\n",
              "       [ 2.55000000e+02,  0.00000000e+00,  0.00000000e+00, ...,\n",
              "        -1.91058256e-02, -1.91058256e-02,  0.00000000e+00],\n",
              "       [ 0.00000000e+00,  0.00000000e+00,  0.00000000e+00, ...,\n",
              "         5.84994256e-03,  5.84994256e-03,  0.00000000e+00],\n",
              "       [ 0.00000000e+00,  0.00000000e+00,  2.55000000e+02, ...,\n",
              "         6.45420551e-02,  6.45420551e-02,  0.00000000e+00]])"
            ]
          },
          "execution_count": 31,
          "metadata": {},
          "output_type": "execute_result"
        }
      ],
      "source": [
        "# sanity check\n",
        "# showing first few sets of features\n",
        "edge_templ_features[:5,:]\n",
        "# this fits, low values for edge detection and higher for similarity metrics\n"
      ]
    },
    {
      "cell_type": "code",
      "execution_count": 32,
      "metadata": {
        "colab": {
          "base_uri": "https://localhost:8080/",
          "height": 610
        },
        "id": "oCx16JlcKTrp",
        "outputId": "4af4ea20-4bfe-495c-a81e-7a61b935c791"
      },
      "outputs": [
        {
          "data": {
            "image/png": "[encoded data removed]",
            "text/plain": [
              "<Figure size 1200x600 with 8 Axes>"
            ]
          },
          "metadata": {},
          "output_type": "display_data"
        }
      ],
      "source": [
        "# function for plotting face templates\n",
        "import matplotlib.pyplot as plt\n",
        "\n",
        "def plot_emotion_templates(templates_dict, label_names_dict):\n",
        "    num_templates = len(templates_dict)\n",
        "    cols = 4\n",
        "    rows = (num_templates + cols - 1) // cols  # ceiling division\n",
        "\n",
        "    fig, axes = plt.subplots(rows, cols, figsize=(12, 3 * rows))\n",
        "    axes = axes.flatten()\n",
        "\n",
        "    for i, (label, template_img) in enumerate(sorted(templates_dict.items())):\n",
        "        ax = axes[i]\n",
        "        ax.imshow(template_img, cmap='gray')\n",
        "        ax.set_title(label_names_dict.get(label, f\"Label {label}\"))\n",
        "        ax.axis('off')\n",
        "\n",
        "    # Hide unused subplots\n",
        "    for j in range(i + 1, len(axes)):\n",
        "        axes[j].axis('off')\n",
        "\n",
        "    plt.tight_layout()\n",
        "    plt.show()\n",
        "\n",
        "#actual plotting\n",
        "plot_emotion_templates(templates_dict, label_names_dict)\n"
      ]
    }
  ],
  "metadata": {
    "colab": {
      "provenance": []
    },
    "kernelspec": {
      "display_name": "base",
      "language": "python",
      "name": "python3"
    },
    "language_info": {
      "codemirror_mode": {
        "name": "ipython",
        "version": 3
      },
      "file_extension": ".py",
      "mimetype": "text/x-python",
      "name": "python",
      "nbconvert_exporter": "python",
      "pygments_lexer": "ipython3",
      "version": "3.11.4"
    }
  },
  "nbformat": 4,
  "nbformat_minor": 0
}
