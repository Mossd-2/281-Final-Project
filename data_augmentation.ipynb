{
 "cells": [
  {
   "cell_type": "code",
   "id": "initial_id",
   "metadata": {
    "collapsed": true,
    "ExecuteTime": {
     "end_time": "2025-03-18T18:35:02.836182Z",
     "start_time": "2025-03-18T18:35:02.778822Z"
    }
   },
   "source": [
    "import utils\n",
    "import numpy as np"
   ],
   "outputs": [],
   "execution_count": 1
  },
  {
   "metadata": {
    "ExecuteTime": {
     "end_time": "2025-03-18T18:35:02.984397Z",
     "start_time": "2025-03-18T18:35:02.837817Z"
    }
   },
   "cell_type": "code",
   "source": "train_images, train_labels, test_images, test_labels = utils.load_processed_data('preprocessed_data.pkl')",
   "id": "ef53b500c74cb8f",
   "outputs": [],
   "execution_count": 2
  },
  {
   "metadata": {
    "ExecuteTime": {
     "end_time": "2025-03-18T18:35:02.991045Z",
     "start_time": "2025-03-18T18:35:02.985735Z"
    }
   },
   "cell_type": "code",
   "source": [
    "def augment_data_for_balance(images, labels, target_counts=None):\n",
    "    \"\"\"\n",
    "    Augment data to correct class imbalance by applying horizontal flips.\n",
    "    If target_counts is an integer, classes with more samples will be downsampled.\n",
    "    \n",
    "    Parameters:\n",
    "    images: Array of images (n_samples, height, width, channels)\n",
    "    labels: Array of labels (n_samples,)\n",
    "    target_counts: Either:\n",
    "                  - Dict mapping class labels to target counts, or\n",
    "                  - Integer specifying the same target count for all classes\n",
    "                  If None, will use the max count of any class for all classes\n",
    "    \n",
    "    Returns:\n",
    "    tuple: (augmented_images, augmented_labels)\n",
    "    \"\"\"\n",
    "    # Count examples per class\n",
    "    unique_labels, counts = np.unique(labels, return_counts=True)\n",
    "    class_counts = dict(zip(unique_labels, counts))\n",
    "    \n",
    "    # Determine target counts\n",
    "    if target_counts is None:\n",
    "        # Use the max count as default for all classes\n",
    "        max_count = max(counts)\n",
    "        target_counts = {label: max_count for label in unique_labels}\n",
    "    elif isinstance(target_counts, (int, float)):\n",
    "        # If a single number is provided, use it for all classes\n",
    "        target_count_value = int(target_counts)\n",
    "        target_counts = {label: target_count_value for label in unique_labels}\n",
    "    \n",
    "    # Initialize lists for augmented data\n",
    "    augmented_images = []\n",
    "    augmented_labels = []\n",
    "    \n",
    "    # Process each class\n",
    "    for label in unique_labels:\n",
    "        # Get indices for this class\n",
    "        class_indices = np.where(labels == label)[0]\n",
    "        current_count = len(class_indices)\n",
    "        target_count = target_counts[label]\n",
    "        \n",
    "        if current_count > target_count:\n",
    "            # Need to downsample\n",
    "            selected_indices = np.random.choice(class_indices, target_count, replace=False)\n",
    "            augmented_images.extend(images[selected_indices])\n",
    "            augmented_labels.extend([label] * len(selected_indices))\n",
    "        \n",
    "        elif current_count < target_count:\n",
    "            # Need to upsample with augmentation\n",
    "            # First add all original samples\n",
    "            augmented_images.extend(images[class_indices])\n",
    "            augmented_labels.extend([label] * current_count)\n",
    "            \n",
    "            # Determine how many to augment (limited by available originals)\n",
    "            n_to_augment = min(target_count - current_count, current_count)\n",
    "            \n",
    "            if n_to_augment > 0:\n",
    "                # Select indices to augment (without replacement to avoid duplicates)\n",
    "                indices_to_augment = np.random.choice(class_indices, n_to_augment, replace=False)\n",
    "                \n",
    "                # Apply horizontal flipping\n",
    "                for idx in indices_to_augment:\n",
    "                    flipped_image = np.fliplr(images[idx]).copy()\n",
    "                    augmented_images.append(flipped_image)\n",
    "                    augmented_labels.append(label)\n",
    "        \n",
    "        else:\n",
    "            # Already at target count, keep all samples\n",
    "            augmented_images.extend(images[class_indices])\n",
    "            augmented_labels.extend([label] * current_count)\n",
    "    \n",
    "    # Convert to numpy arrays\n",
    "    augmented_images = np.array(augmented_images)\n",
    "    augmented_labels = np.array(augmented_labels)\n",
    "    \n",
    "    # Shuffle the augmented dataset\n",
    "    np.random.seed(0)\n",
    "    indices = np.arange(len(augmented_labels))\n",
    "    shuffled_indices = np.random.permutation(indices)\n",
    "    augmented_images = augmented_images[shuffled_indices]\n",
    "    augmented_labels = augmented_labels[shuffled_indices]\n",
    "    \n",
    "    return augmented_images, augmented_labels\n",
    "\n",
    "\n",
    "def print_class_distribution(labels, class_names=None):\n",
    "    \"\"\"\n",
    "    Print the distribution of classes in a dataset.\n",
    "    \n",
    "    Parameters:\n",
    "    labels: Array of labels\n",
    "    class_names: Optional dictionary mapping class IDs to names\n",
    "    \"\"\"\n",
    "    unique_labels, counts = np.unique(labels, return_counts=True)\n",
    "    total = len(labels)\n",
    "    \n",
    "    print(\"Class distribution:\")\n",
    "    for i, (label, count) in enumerate(zip(unique_labels, counts)):\n",
    "        if class_names is not None and label in class_names:\n",
    "            class_name = class_names[label]\n",
    "        else:\n",
    "            class_name = f\"Class {label}\"\n",
    "        \n",
    "        percentage = (count / total) * 100\n",
    "        print(f\"{class_name}: {count} examples ({percentage:.1f}%)\")"
   ],
   "id": "1168c71b6939da24",
   "outputs": [],
   "execution_count": 3
  },
  {
   "metadata": {
    "ExecuteTime": {
     "end_time": "2025-03-18T18:35:03.124130Z",
     "start_time": "2025-03-18T18:35:02.992257Z"
    }
   },
   "cell_type": "code",
   "source": "train_images_aug, train_labels_aug = augment_data_for_balance(train_images, train_labels, target_counts=560)",
   "id": "6a73f021a5313dd7",
   "outputs": [],
   "execution_count": 4
  },
  {
   "metadata": {
    "ExecuteTime": {
     "end_time": "2025-03-18T18:35:03.126891Z",
     "start_time": "2025-03-18T18:35:03.125019Z"
    }
   },
   "cell_type": "code",
   "source": "print_class_distribution(train_labels_aug)",
   "id": "45a6209a511cb9e",
   "outputs": [
    {
     "name": "stdout",
     "output_type": "stream",
     "text": [
      "Class distribution:\n",
      "Class 1: 560 examples (14.3%)\n",
      "Class 2: 560 examples (14.3%)\n",
      "Class 3: 560 examples (14.3%)\n",
      "Class 4: 560 examples (14.3%)\n",
      "Class 5: 560 examples (14.3%)\n",
      "Class 6: 560 examples (14.3%)\n",
      "Class 7: 560 examples (14.3%)\n"
     ]
    }
   ],
   "execution_count": 5
  },
  {
   "metadata": {
    "ExecuteTime": {
     "end_time": "2025-03-18T18:35:03.249543Z",
     "start_time": "2025-03-18T18:35:03.127470Z"
    }
   },
   "cell_type": "code",
   "source": [
    "# pickle augmented image arrays\n",
    "utils.save_processed_data('augmented_preprocessed_data.pkl', train_images_aug, train_labels_aug, test_images, test_labels)"
   ],
   "id": "1bbbccb8f1fb925e",
   "outputs": [
    {
     "name": "stdout",
     "output_type": "stream",
     "text": [
      "Data saved to ./281_final_project_data/augmented_preprocessed_data.pkl\n"
     ]
    }
   ],
   "execution_count": 6
  }
 ],
 "metadata": {
  "kernelspec": {
   "display_name": "Python 3",
   "language": "python",
   "name": "python3"
  },
  "language_info": {
   "codemirror_mode": {
    "name": "ipython",
    "version": 2
   },
   "file_extension": ".py",
   "mimetype": "text/x-python",
   "name": "python",
   "nbconvert_exporter": "python",
   "pygments_lexer": "ipython2",
   "version": "2.7.6"
  }
 },
 "nbformat": 4,
 "nbformat_minor": 5
}
