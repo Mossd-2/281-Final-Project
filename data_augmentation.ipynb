{
 "cells": [
  {
   "cell_type": "code",
   "id": "initial_id",
   "metadata": {
    "collapsed": true,
    "ExecuteTime": {
     "end_time": "2025-04-10T03:09:25.441233Z",
     "start_time": "2025-04-10T03:09:24.908724Z"
    }
   },
   "source": [
    "import utils\n",
    "import numpy as np\n",
    "from sklearn.model_selection import train_test_split\n",
    "import cv2"
   ],
   "outputs": [],
   "execution_count": 1
  },
  {
   "metadata": {
    "ExecuteTime": {
     "end_time": "2025-04-10T03:09:25.525751Z",
     "start_time": "2025-04-10T03:09:25.442329Z"
    }
   },
   "cell_type": "code",
   "source": [
    "train_images, train_labels, test_images, test_labels = utils.load_processed_data('preprocessed_data.pkl')\n",
    "\n",
    "train_images, val_images, train_labels, val_labels = train_test_split(train_images, train_labels, test_size=0.25, train_size=0.75, random_state=1234, shuffle=True)\n"
   ],
   "id": "ef53b500c74cb8f",
   "outputs": [],
   "execution_count": 2
  },
  {
   "metadata": {
    "ExecuteTime": {
     "end_time": "2025-04-10T03:09:25.531577Z",
     "start_time": "2025-04-10T03:09:25.526460Z"
    }
   },
   "cell_type": "code",
   "source": [
    "\n",
    "def adjust_brightness_contrast(img, brightness=0.2, contrast=0.2):\n",
    "    \"\"\"Randomly adjust brightness and contrast.\"\"\"\n",
    "    alpha = 1.0 + np.random.uniform(-contrast, contrast)  # Contrast control\n",
    "    beta = np.random.uniform(-brightness * 255, brightness * 255)  # Brightness control\n",
    "    adjusted = cv2.convertScaleAbs(img, alpha=alpha, beta=beta)\n",
    "    return adjusted\n",
    "\n",
    "def add_gaussian_noise(img, mean=0, std=10):\n",
    "    \"\"\"Add Gaussian noise to an image.\"\"\"\n",
    "    noise = np.random.normal(mean, std, img.shape).astype(np.float32)\n",
    "    noisy = img.astype(np.float32) + noise\n",
    "    return np.clip(noisy, 0, 255).astype(np.uint8)\n",
    "\n",
    "def horizontal_flip(img):\n",
    "    \"\"\"Flip image horizontally.\"\"\"\n",
    "    return np.fliplr(img)\n",
    "\n",
    "def augment_data_for_balance(images, labels, target_counts=None):\n",
    "    \"\"\"\n",
    "    Augment data to balance classes using horizontal flip, brightness/contrast, and Gaussian noise.\n",
    "    Each transformation is applied once per image at most.\n",
    "    Total examples per original image = up to 1 (original) + 3 (transforms).\n",
    "    \"\"\"\n",
    "    # Count existing examples per class\n",
    "    unique_labels, counts = np.unique(labels, return_counts=True)\n",
    "    class_counts = dict(zip(unique_labels, counts))\n",
    "    \n",
    "    # Determine target counts per class\n",
    "    if target_counts is None:\n",
    "        max_count = max(counts)\n",
    "        target_counts = {label: max_count for label in unique_labels}\n",
    "    elif isinstance(target_counts, (int, float)):\n",
    "        target_count_value = int(target_counts)\n",
    "        target_counts = {label: target_count_value for label in unique_labels}\n",
    "\n",
    "    # Define transformations\n",
    "    augmentation_funcs = [\n",
    "        horizontal_flip,\n",
    "        adjust_brightness_contrast,\n",
    "        add_gaussian_noise\n",
    "    ]\n",
    "    max_transforms = len(augmentation_funcs)\n",
    "\n",
    "    augmented_images = []\n",
    "    augmented_labels = []\n",
    "\n",
    "    for label in unique_labels:\n",
    "        class_indices = np.where(labels == label)[0]\n",
    "        current_images = images[class_indices]\n",
    "        current_count = len(current_images)\n",
    "        target_count = target_counts[label]\n",
    "\n",
    "        per_image_limit = min((target_count - current_count) // current_count + 1, 1 + max_transforms)\n",
    "\n",
    "        for img in current_images:\n",
    "            # Always include original\n",
    "            augmented_images.append(img)\n",
    "            augmented_labels.append(label)\n",
    "\n",
    "            # Apply transformations up to the per-image limit\n",
    "            for i in range(1, per_image_limit):\n",
    "                transformed_img = augmentation_funcs[i - 1](img)\n",
    "                augmented_images.append(transformed_img)\n",
    "                augmented_labels.append(label)\n",
    "\n",
    "    # Convert to arrays and shuffle\n",
    "    augmented_images = np.array(augmented_images)\n",
    "    augmented_labels = np.array(augmented_labels)\n",
    "\n",
    "    np.random.seed(0)\n",
    "    indices = np.random.permutation(len(augmented_labels))\n",
    "    \n",
    "    return augmented_images[indices], augmented_labels[indices]\n",
    "\n",
    "\n",
    "\n",
    "\n",
    "\n",
    "def print_class_distribution(labels, class_names=None):\n",
    "    \"\"\"\n",
    "    Print the distribution of classes in a dataset.\n",
    "    \n",
    "    Parameters:\n",
    "    labels: Array of labels\n",
    "    class_names: Optional dictionary mapping class IDs to names\n",
    "    \"\"\"\n",
    "    unique_labels, counts = np.unique(labels, return_counts=True)\n",
    "    total = len(labels)\n",
    "    \n",
    "    print(\"Class distribution:\")\n",
    "    for i, (label, count) in enumerate(zip(unique_labels, counts)):\n",
    "        if class_names is not None and label in class_names:\n",
    "            class_name = class_names[label]\n",
    "        else:\n",
    "            class_name = f\"Class {label}\"\n",
    "        \n",
    "        percentage = (count / total) * 100\n",
    "        print(f\"{class_name}: {count} examples ({percentage:.1f}%)\")"
   ],
   "id": "1168c71b6939da24",
   "outputs": [],
   "execution_count": 3
  },
  {
   "metadata": {
    "ExecuteTime": {
     "end_time": "2025-04-10T03:09:25.795861Z",
     "start_time": "2025-04-10T03:09:25.532287Z"
    }
   },
   "cell_type": "code",
   "source": "train_images_aug, train_labels_aug = augment_data_for_balance(train_images, train_labels, target_counts=2000)",
   "id": "6a73f021a5313dd7",
   "outputs": [],
   "execution_count": 4
  },
  {
   "metadata": {
    "ExecuteTime": {
     "end_time": "2025-04-10T03:09:25.799222Z",
     "start_time": "2025-04-10T03:09:25.797080Z"
    }
   },
   "cell_type": "code",
   "source": [
    "print(\"Before augmentation\")\n",
    "print_class_distribution(train_labels)\n",
    "\n",
    "print(\"\\nAfter augmentation\")\n",
    "print_class_distribution(train_labels_aug)"
   ],
   "id": "45a6209a511cb9e",
   "outputs": [
    {
     "name": "stdout",
     "output_type": "stream",
     "text": [
      "Before augmentation\n",
      "Class distribution:\n",
      "Class 1: 939 examples (10.2%)\n",
      "Class 2: 208 examples (2.3%)\n",
      "Class 3: 535 examples (5.8%)\n",
      "Class 4: 3624 examples (39.4%)\n",
      "Class 5: 1504 examples (16.3%)\n",
      "Class 6: 512 examples (5.6%)\n",
      "Class 7: 1881 examples (20.4%)\n",
      "\n",
      "After augmentation\n",
      "Class distribution:\n",
      "Class 1: 1878 examples (14.6%)\n",
      "Class 2: 832 examples (6.5%)\n",
      "Class 3: 1605 examples (12.5%)\n",
      "Class 4: 3624 examples (28.2%)\n",
      "Class 5: 1504 examples (11.7%)\n",
      "Class 6: 1536 examples (11.9%)\n",
      "Class 7: 1881 examples (14.6%)\n"
     ]
    }
   ],
   "execution_count": 5
  },
  {
   "metadata": {
    "ExecuteTime": {
     "end_time": "2025-04-10T03:09:25.935403Z",
     "start_time": "2025-04-10T03:09:25.799793Z"
    }
   },
   "cell_type": "code",
   "source": [
    "# pickle augmented image arrays\n",
    "utils.save_processed_data('all_augmented_preprocessed_data.pkl', train_images_aug, train_labels_aug, val_images, val_labels, test_images, test_labels)"
   ],
   "id": "1bbbccb8f1fb925e",
   "outputs": [
    {
     "name": "stdout",
     "output_type": "stream",
     "text": [
      "Data saved to ./281_final_project_data/all_augmented_preprocessed_data.pkl\n"
     ]
    }
   ],
   "execution_count": 6
  }
 ],
 "metadata": {
  "kernelspec": {
   "display_name": "Python 3",
   "language": "python",
   "name": "python3"
  },
  "language_info": {
   "codemirror_mode": {
    "name": "ipython",
    "version": 2
   },
   "file_extension": ".py",
   "mimetype": "text/x-python",
   "name": "python",
   "nbconvert_exporter": "python",
   "pygments_lexer": "ipython2",
   "version": "2.7.6"
  }
 },
 "nbformat": 4,
 "nbformat_minor": 5
}
