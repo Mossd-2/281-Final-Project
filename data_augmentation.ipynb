{
 "cells": [
  {
   "cell_type": "code",
   "id": "initial_id",
   "metadata": {
    "collapsed": true,
    "ExecuteTime": {
     "end_time": "2025-04-09T23:20:59.684381Z",
     "start_time": "2025-04-09T23:20:59.682856Z"
    }
   },
   "source": [
    "import utils\n",
    "import numpy as np\n",
    "from sklearn.model_selection import train_test_split"
   ],
   "outputs": [],
   "execution_count": 19
  },
  {
   "metadata": {
    "ExecuteTime": {
     "end_time": "2025-04-09T23:20:59.775007Z",
     "start_time": "2025-04-09T23:20:59.685242Z"
    }
   },
   "cell_type": "code",
   "source": [
    "train_images, train_labels, test_images, test_labels = utils.load_processed_data('preprocessed_data.pkl')\n",
    "\n",
    "train_images, val_images, train_labels, val_labels = train_test_split(train_images, train_labels, test_size=0.25, train_size=0.75, random_state=1234, shuffle=True)"
   ],
   "id": "ef53b500c74cb8f",
   "outputs": [],
   "execution_count": 20
  },
  {
   "metadata": {
    "ExecuteTime": {
     "end_time": "2025-04-09T23:20:59.780023Z",
     "start_time": "2025-04-09T23:20:59.775894Z"
    }
   },
   "cell_type": "code",
   "source": [
    "def augment_data_for_balance(images, labels, target_counts=None):\n",
    "    \"\"\"\n",
    "    Augment data to correct class imbalance by applying horizontal flips once per original.\n",
    "    If target_counts is an integer, it is used as the target count for all classes.\n",
    "    Classes with counts above the target are left unchanged.\n",
    "    \n",
    "    Parameters:\n",
    "    images: np.ndarray, shape (n_samples, H, W, C)\n",
    "    labels: np.ndarray, shape (n_samples,)\n",
    "    target_counts: dict or int or None - target number of samples per class\n",
    "    \n",
    "    Returns:\n",
    "    (augmented_images, augmented_labels): tuple of np.ndarrays\n",
    "    \"\"\"\n",
    "    # Count existing examples per class\n",
    "    unique_labels, counts = np.unique(labels, return_counts=True)\n",
    "    class_counts = dict(zip(unique_labels, counts))\n",
    "    \n",
    "    # Determine target counts per class\n",
    "    if target_counts is None:\n",
    "        max_count = max(counts)\n",
    "        target_counts = {label: max_count for label in unique_labels}\n",
    "    elif isinstance(target_counts, (int, float)):\n",
    "        target_count_value = int(target_counts)\n",
    "        target_counts = {label: target_count_value for label in unique_labels}\n",
    "    \n",
    "    augmented_images = []\n",
    "    augmented_labels = []\n",
    "    \n",
    "    for label in unique_labels:\n",
    "        class_indices = np.where(labels == label)[0]\n",
    "        current_count = len(class_indices)\n",
    "        target_count = target_counts[label]\n",
    "        \n",
    "        # Always keep all original images\n",
    "        augmented_images.extend(images[class_indices])\n",
    "        augmented_labels.extend([label] * current_count)\n",
    "        \n",
    "        # Only augment if below target\n",
    "        if current_count < target_count:\n",
    "            # Calculate how many augmented samples are needed\n",
    "            needed = target_count - current_count\n",
    "            \n",
    "            # Limit augmentations to number of original images to avoid flipping more than once\n",
    "            n_to_augment = min(needed, current_count)\n",
    "            if n_to_augment > 0:\n",
    "                indices_to_augment = np.random.choice(class_indices, n_to_augment, replace=False)\n",
    "                for idx in indices_to_augment:\n",
    "                    flipped_image = np.fliplr(images[idx]).copy()\n",
    "                    augmented_images.append(flipped_image)\n",
    "                    augmented_labels.append(label)\n",
    "    \n",
    "    # Convert to arrays and shuffle\n",
    "    augmented_images = np.array(augmented_images)\n",
    "    augmented_labels = np.array(augmented_labels)\n",
    "    \n",
    "    np.random.seed(0)\n",
    "    indices = np.arange(len(augmented_labels))\n",
    "    shuffled = np.random.permutation(indices)\n",
    "    \n",
    "    return augmented_images[shuffled], augmented_labels[shuffled]\n",
    "\n",
    "\n",
    "\n",
    "\n",
    "def print_class_distribution(labels, class_names=None):\n",
    "    \"\"\"\n",
    "    Print the distribution of classes in a dataset.\n",
    "    \n",
    "    Parameters:\n",
    "    labels: Array of labels\n",
    "    class_names: Optional dictionary mapping class IDs to names\n",
    "    \"\"\"\n",
    "    unique_labels, counts = np.unique(labels, return_counts=True)\n",
    "    total = len(labels)\n",
    "    \n",
    "    print(\"Class distribution:\")\n",
    "    for i, (label, count) in enumerate(zip(unique_labels, counts)):\n",
    "        if class_names is not None and label in class_names:\n",
    "            class_name = class_names[label]\n",
    "        else:\n",
    "            class_name = f\"Class {label}\"\n",
    "        \n",
    "        percentage = (count / total) * 100\n",
    "        print(f\"{class_name}: {count} examples ({percentage:.1f}%)\")"
   ],
   "id": "1168c71b6939da24",
   "outputs": [],
   "execution_count": 21
  },
  {
   "metadata": {
    "ExecuteTime": {
     "end_time": "2025-04-09T23:20:59.979090Z",
     "start_time": "2025-04-09T23:20:59.780617Z"
    }
   },
   "cell_type": "code",
   "source": "train_images_aug, train_labels_aug = augment_data_for_balance(train_images, train_labels, target_counts=2000)",
   "id": "6a73f021a5313dd7",
   "outputs": [],
   "execution_count": 22
  },
  {
   "metadata": {
    "ExecuteTime": {
     "end_time": "2025-04-09T23:20:59.982170Z",
     "start_time": "2025-04-09T23:20:59.980240Z"
    }
   },
   "cell_type": "code",
   "source": "print_class_distribution(train_labels_aug)",
   "id": "45a6209a511cb9e",
   "outputs": [
    {
     "name": "stdout",
     "output_type": "stream",
     "text": [
      "Class distribution:\n",
      "Class 1: 1878 examples (15.6%)\n",
      "Class 2: 416 examples (3.5%)\n",
      "Class 3: 1070 examples (8.9%)\n",
      "Class 4: 3624 examples (30.2%)\n",
      "Class 5: 2000 examples (16.7%)\n",
      "Class 6: 1024 examples (8.5%)\n",
      "Class 7: 2000 examples (16.7%)\n"
     ]
    }
   ],
   "execution_count": 23
  },
  {
   "metadata": {
    "ExecuteTime": {
     "end_time": "2025-04-09T23:21:00.109360Z",
     "start_time": "2025-04-09T23:20:59.982699Z"
    }
   },
   "cell_type": "code",
   "source": [
    "# pickle augmented image arrays\n",
    "utils.save_processed_data('all_augmented_preprocessed_data.pkl', train_images_aug, train_labels_aug, val_images, val_labels, test_images, test_labels)"
   ],
   "id": "1bbbccb8f1fb925e",
   "outputs": [
    {
     "name": "stdout",
     "output_type": "stream",
     "text": [
      "Data saved to ./281_final_project_data/all_augmented_preprocessed_data.pkl\n"
     ]
    }
   ],
   "execution_count": 24
  }
 ],
 "metadata": {
  "kernelspec": {
   "display_name": "Python 3",
   "language": "python",
   "name": "python3"
  },
  "language_info": {
   "codemirror_mode": {
    "name": "ipython",
    "version": 2
   },
   "file_extension": ".py",
   "mimetype": "text/x-python",
   "name": "python",
   "nbconvert_exporter": "python",
   "pygments_lexer": "ipython2",
   "version": "2.7.6"
  }
 },
 "nbformat": 4,
 "nbformat_minor": 5
}
